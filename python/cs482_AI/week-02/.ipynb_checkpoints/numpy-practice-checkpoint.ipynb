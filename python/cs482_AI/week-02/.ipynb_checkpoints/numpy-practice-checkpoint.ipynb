{
 "cells": [
  {
   "cell_type": "code",
   "execution_count": 1,
   "metadata": {
    "collapsed": true
   },
   "outputs": [],
   "source": [
    "import numpy as np\n",
    "import math"
   ]
  },
  {
   "cell_type": "code",
   "execution_count": 2,
   "metadata": {
    "collapsed": false
   },
   "outputs": [],
   "source": [
    "def f1(x,y):\n",
    "    result = []\n",
    "    if len(x) != len(y):\n",
    "        raise ValueError(\"Vectors must be same length\")\n",
    "    for i, v in enumerate(x):\n",
    "        result.append(x[i] + y[i])\n",
    "    return result"
   ]
  },
  {
   "cell_type": "code",
   "execution_count": null,
   "metadata": {
    "collapsed": true
   },
   "outputs": [],
   "source": [
    "x = np.array([1,2,3])\n",
    "y = np.array([1,2,3])\n",
    "z "
   ]
  },
  {
   "cell_type": "code",
   "execution_count": 56,
   "metadata": {
    "collapsed": false
   },
   "outputs": [],
   "source": [
    "def f2(a,x):\n",
    "    result = []\n",
    "    for i,v in enumerate(x):\n",
    "        result.append(a * v)\n",
    "    return result"
   ]
  },
  {
   "cell_type": "code",
   "execution_count": 57,
   "metadata": {
    "collapsed": false
   },
   "outputs": [],
   "source": [
    "def f3(x):\n",
    "    result = []\n",
    "    norm = 0.0\n",
    "    for v in x:\n",
    "        norm += v*v\n",
    "    norm = math.sqrt(norm)\n",
    "    for i,v in enumerate(x):\n",
    "        result.append( x[i]/norm )\n",
    "    return result"
   ]
  },
  {
   "cell_type": "code",
   "execution_count": 58,
   "metadata": {
    "collapsed": false
   },
   "outputs": [],
   "source": [
    "def f4(x):\n",
    "    norm = 0.0\n",
    "    for v in x:\n",
    "        norm += v*v\n",
    "    norm = math.sqrt(norm)\n",
    "    return norm"
   ]
  },
  {
   "cell_type": "code",
   "execution_count": 59,
   "metadata": {
    "collapsed": false
   },
   "outputs": [],
   "source": [
    "def f5(x):\n",
    "    sigm = lambda x: (1.0 / (1.0 + math.exp(-x)))\n",
    "    result = []\n",
    "    for v in x:\n",
    "        result.append(sigm(v))\n",
    "    return result"
   ]
  },
  {
   "cell_type": "code",
   "execution_count": 60,
   "metadata": {
    "collapsed": false
   },
   "outputs": [],
   "source": [
    "def f6(m, nrows, ncols):\n",
    "    for i in range(nrows):\n",
    "        for j in range(ncols):\n",
    "            if m[ncols * i + j] != m[ncols * j + i]:\n",
    "                return False\n",
    "    return True"
   ]
  },
  {
   "cell_type": "code",
   "execution_count": 61,
   "metadata": {
    "collapsed": false
   },
   "outputs": [],
   "source": [
    "def f7(x,y):\n",
    "    s = 0.0\n",
    "    if len(x) != len(y):\n",
    "        raise ValueError(\"lengths differ.\")\n",
    "    for i,v in enumerate(x):\n",
    "        s += x[i] * y[i]\n",
    "    return s"
   ]
  },
  {
   "cell_type": "code",
   "execution_count": 62,
   "metadata": {
    "collapsed": false
   },
   "outputs": [],
   "source": [
    "def f8(m, x, nrows, ncols):\n",
    "    result = []\n",
    "    if len(x) != ncols:\n",
    "        raise ValueError(\"m and x have incompatible sizes.\")\n",
    "    for i, v in enumerate(x):\n",
    "        result.append(f7(m[i * ncols : (i+1)*ncols], x))\n",
    "    return result"
   ]
  },
  {
   "cell_type": "code",
   "execution_count": 63,
   "metadata": {
    "collapsed": false
   },
   "outputs": [],
   "source": [
    "import random\n",
    "def f9(length):\n",
    "    result = []\n",
    "    if length <= 0:\n",
    "        raise ValueError(\"Need a positive argument.\")\n",
    "    for i in range(length):\n",
    "        result.append(random.gauss(0, 0.1))\n",
    "    return result"
   ]
  },
  {
   "cell_type": "code",
   "execution_count": 64,
   "metadata": {
    "collapsed": false
   },
   "outputs": [],
   "source": [
    "def f10(x):\n",
    "    if len(x) == 0:\n",
    "        raise ValueError(\"need a nonempty x.\")\n",
    "    minval = x[0]\n",
    "    for v in x:\n",
    "        if v <= minval:\n",
    "            minval = v\n",
    "    return minval"
   ]
  },
  {
   "cell_type": "code",
   "execution_count": 65,
   "metadata": {
    "collapsed": false
   },
   "outputs": [],
   "source": [
    "def f11(x):\n",
    "    if len(x) == 0:\n",
    "        raise ValueError(\"need nonempty x.\")\n",
    "    maxval = x[0]\n",
    "    for v in x:\n",
    "        if v >= maxval:\n",
    "            maxval = v\n",
    "    return maxval"
   ]
  }
 ],
 "metadata": {
  "kernelspec": {
   "display_name": "Python 2",
   "language": "python",
   "name": "python2"
  },
  "language_info": {
   "codemirror_mode": {
    "name": "ipython",
    "version": 2
   },
   "file_extension": ".py",
   "mimetype": "text/x-python",
   "name": "python",
   "nbconvert_exporter": "python",
   "pygments_lexer": "ipython2",
   "version": "2.7.10"
  }
 },
 "nbformat": 4,
 "nbformat_minor": 0
}
