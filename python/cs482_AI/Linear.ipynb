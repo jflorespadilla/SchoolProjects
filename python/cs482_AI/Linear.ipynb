{
 "cells": [
  {
   "cell_type": "code",
   "execution_count": 1,
   "metadata": {
    "collapsed": true
   },
   "outputs": [],
   "source": [
    "import numpy as np\n",
    "import math"
   ]
  },
  {
   "cell_type": "code",
   "execution_count": 2,
   "metadata": {
    "collapsed": true
   },
   "outputs": [],
   "source": [
    "class linear:\n",
    "    def __init__(self, m, n):\n",
    "        self.n = n\n",
    "        self.m = m\n",
    "        self.output = 0\n",
    "        self.A = np.random.randint(10, size = (m,n))\n",
    "        self.b = np.random.randint(10, size = m)\n",
    "        self.gradInput = 0\n",
    "        self.gradWeight = 0\n",
    "        \n",
    "    def updateOutput(self, x):\n",
    "        self.output = np.dot(self.A, x) + self.b\n",
    "        return self.output\n",
    "    \n",
    "    def updateGradInput(self, x, gradOutput):\n",
    "        self.gradInput = np.dot(np.transpose(self.A), gradOutput)\n",
    "        return self.gradInput\n",
    "        \n",
    "    def updateGradWeight(self, x, gradOutput):\n",
    "        self.gradWeight = np.outer(gradOutput, np.transpose(x))\n",
    "        return self.gradWeight"
   ]
  },
  {
   "cell_type": "code",
   "execution_count": null,
   "metadata": {
    "collapsed": true
   },
   "outputs": [],
   "source": []
  }
 ],
 "metadata": {
  "kernelspec": {
   "display_name": "Python 2",
   "language": "python",
   "name": "python2"
  },
  "language_info": {
   "codemirror_mode": {
    "name": "ipython",
    "version": 2
   },
   "file_extension": ".py",
   "mimetype": "text/x-python",
   "name": "python",
   "nbconvert_exporter": "python",
   "pygments_lexer": "ipython2",
   "version": "2.7.10"
  }
 },
 "nbformat": 4,
 "nbformat_minor": 0
}
