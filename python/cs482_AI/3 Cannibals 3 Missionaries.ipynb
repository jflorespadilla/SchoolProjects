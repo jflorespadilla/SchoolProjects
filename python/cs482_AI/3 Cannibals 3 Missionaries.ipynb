{
 "cells": [
  {
   "cell_type": "code",
   "execution_count": 28,
   "metadata": {
    "collapsed": true
   },
   "outputs": [],
   "source": [
    "graph = {\n",
    "    \"331\" : [\"220\",\"310\", \"130\", \"230\", \"320\"],\n",
    "    \"220\" : [\"331\", \"321\", \"231\"],\n",
    "    \"310\" : [\"331\", \"321\"],\n",
    "    \"320\" : [\"331\"],\n",
    "    \"321\" : [\"210\", \"120\", \"220\", \"310\", \"300\"],\n",
    "    \"310\" : [\"321\", \"331\"],\n",
    "    \"300\" : [\"311\", \"321\"],\n",
    "    \"311\" : [\"210\", \"110\", \"200\"],\n",
    "    \"110\" : [\"221\", \"131\", \"211\", \"121\", \"311\"],\n",
    "    \"221\" : [\"120\", \"210\", \"300\", \"020\", \"110\"],\n",
    "    \"020\" : [\"221\", \"121\", \"131\", \"031\"],\n",
    "    \"031\" : [\"020\", \"010\"],\n",
    "    \"010\" : [\"031\", \"111\", \"211\", \"021\", \"121\"],\n",
    "    \"111\" : [\"010\", \"100\", \"000\"],\n",
    "    \"021\" : [\"010\", \"000\"]\n",
    "}"
   ]
  },
  {
   "cell_type": "code",
   "execution_count": 29,
   "metadata": {
    "collapsed": false
   },
   "outputs": [],
   "source": [
    "def find_all_paths(graph, start, end, path=[]):\n",
    "        path = path + [start]\n",
    "        if start == end:\n",
    "            return [path]\n",
    "        if not graph.has_key(start):\n",
    "            return []\n",
    "        paths = []\n",
    "        for node in graph[start]:\n",
    "            if node not in path:\n",
    "                newpaths = find_all_paths(graph, node, end, path)\n",
    "                for newpath in newpaths:\n",
    "                    paths.append(newpath)\n",
    "        return paths\n",
    "    \n",
    "def find_shortest_path(graph, start, end, path=[]):\n",
    "        path = path + [start]\n",
    "        if start == end:\n",
    "            return path\n",
    "        if not graph.has_key(start):\n",
    "            return None\n",
    "        shortest = None\n",
    "        for node in graph[start]:\n",
    "            if node not in path:\n",
    "                newpath = find_shortest_path(graph, node, end, path)\n",
    "                if newpath:\n",
    "                    if not shortest or len(newpath) < len(shortest):\n",
    "                        shortest = newpath\n",
    "        return shortest"
   ]
  },
  {
   "cell_type": "code",
   "execution_count": 30,
   "metadata": {
    "collapsed": false
   },
   "outputs": [
    {
     "data": {
      "text/plain": [
       "['331',\n",
       " '220',\n",
       " '321',\n",
       " '300',\n",
       " '311',\n",
       " '110',\n",
       " '221',\n",
       " '020',\n",
       " '031',\n",
       " '010',\n",
       " '111',\n",
       " '000']"
      ]
     },
     "execution_count": 30,
     "metadata": {},
     "output_type": "execute_result"
    }
   ],
   "source": [
    "find_shortest_path(graph, \"331\", \"000\", [])"
   ]
  },
  {
   "cell_type": "code",
   "execution_count": 31,
   "metadata": {
    "collapsed": false
   },
   "outputs": [
    {
     "data": {
      "text/plain": [
       "[['331',\n",
       "  '220',\n",
       "  '321',\n",
       "  '300',\n",
       "  '311',\n",
       "  '110',\n",
       "  '221',\n",
       "  '020',\n",
       "  '031',\n",
       "  '010',\n",
       "  '111',\n",
       "  '000'],\n",
       " ['331',\n",
       "  '220',\n",
       "  '321',\n",
       "  '300',\n",
       "  '311',\n",
       "  '110',\n",
       "  '221',\n",
       "  '020',\n",
       "  '031',\n",
       "  '010',\n",
       "  '021',\n",
       "  '000'],\n",
       " ['331',\n",
       "  '310',\n",
       "  '321',\n",
       "  '300',\n",
       "  '311',\n",
       "  '110',\n",
       "  '221',\n",
       "  '020',\n",
       "  '031',\n",
       "  '010',\n",
       "  '111',\n",
       "  '000'],\n",
       " ['331',\n",
       "  '310',\n",
       "  '321',\n",
       "  '300',\n",
       "  '311',\n",
       "  '110',\n",
       "  '221',\n",
       "  '020',\n",
       "  '031',\n",
       "  '010',\n",
       "  '021',\n",
       "  '000']]"
      ]
     },
     "execution_count": 31,
     "metadata": {},
     "output_type": "execute_result"
    }
   ],
   "source": [
    "find_all_paths(graph, \"331\", \"000\", [])"
   ]
  }
 ],
 "metadata": {
  "kernelspec": {
   "display_name": "Python 2",
   "language": "python",
   "name": "python2"
  },
  "language_info": {
   "codemirror_mode": {
    "name": "ipython",
    "version": 2
   },
   "file_extension": ".py",
   "mimetype": "text/x-python",
   "name": "python",
   "nbconvert_exporter": "python",
   "pygments_lexer": "ipython2",
   "version": "2.7.10"
  }
 },
 "nbformat": 4,
 "nbformat_minor": 0
}
