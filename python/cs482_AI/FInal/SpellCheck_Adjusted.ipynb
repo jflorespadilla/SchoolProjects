{
 "cells": [
  {
   "cell_type": "markdown",
   "metadata": {},
   "source": [
    "This file contains the code of the altered spell check program.\n",
    "\n",
    "The first section of code was left unaltered. In previous alterations of my code added other training sets and other edit functions. My intent was to expand the dictionatry NWORDS as well as refine the way candidates are selected for the corrector fucntion. However, most of my other implementations did far wrose than the current implementation."
   ]
  },
  {
   "cell_type": "code",
   "execution_count": 20,
   "metadata": {
    "collapsed": false
   },
   "outputs": [],
   "source": [
    "import re, collections\n",
    "\n",
    "def words(text): return re.findall('[a-z]+', text.lower()) \n",
    "\n",
    "def train(features):\n",
    "    model = collections.defaultdict(lambda: 1)\n",
    "    for f in features:\n",
    "        model[f] += 1\n",
    "    return model\n",
    "\n",
    "NWORDS = train(words(file('big.txt').read()))\n",
    "\n",
    "alphabet = 'abcdefghijklmnopqrstuvwxyz'\n",
    "\n",
    "def edits1(word):\n",
    "   splits     = [(word[:i], word[i:]) for i in range(len(word) + 1)]\n",
    "   deletes    = [a + b[1:] for a, b in splits if b]\n",
    "   transposes = [a + b[1] + b[0] + b[2:] for a, b in splits if len(b)>1]\n",
    "   replaces   = [a + c + b[1:] for a, b in splits for c in alphabet if b]\n",
    "   inserts    = [a + c + b     for a, b in splits for c in alphabet]\n",
    "   return set(deletes + transposes + replaces + inserts)\n",
    "\n",
    "def known_edits2(word):\n",
    "    return set(e2 for e1 in edits1(word) for e2 in edits1(e1) if e2 in NWORDS)\n",
    "\n",
    "def known(words): return set(w for w in words if w in NWORDS)\n",
    "\n",
    "def addWord(word):\n",
    "        NWORDS[word] =+ 1"
   ]
  },
  {
   "cell_type": "markdown",
   "metadata": {},
   "source": [
    "The biggest change I made to the program was to make changes to the correct function. The biggest key that I focused on was to have a \"training set that cannot be saved in memeory.\" Now I originally intedned to focus on using web cralwers to randomly find some article and use that as a trining set and then fetching another article and using that as a secondary training set, but unfortunately I was not skilled in Python enough to do that. So instead I opted to have an interactive program in which you can add words into the dictionary. I also made it so that the user can interactively iterate through other likely candidates for corrections. If the user finds the word they intended to spell, then the count value is incremented to make it a more likely candidate for next time. So long as the program is running, the program is learning based on the user input."
   ]
  },
  {
   "cell_type": "markdown",
   "metadata": {},
   "source": [
    "This user input model is a bit impractical due to the fact that it always has to be running in order to correctly learn. Improvment to this would be to save learn states and to have the program remember what it learned previously. This program is a slight improvement over the orginal in that it at least allows users to alter the probablilties of encountering words, even if it's ever so slightly."
   ]
  },
  {
   "cell_type": "code",
   "execution_count": 21,
   "metadata": {
    "collapsed": true
   },
   "outputs": [],
   "source": [
    "def correct(word):\n",
    "    candidates = known([word]) or known(edits1(word)) or known_edits2(word) or [word]\n",
    "    retVal = max(candidates, key=NWORDS.get)   \n",
    "    isValue = input(\"Did you mean? \" + retVal +\"\\n1.Yes\\n2.No\\n\")\n",
    "    if isValue == 1:\n",
    "        return retVal\n",
    "    else:\n",
    "        willAdd = input(\"Do you wish to add this as a new word?\\n1.yes\\n2.No\\n\")\n",
    "        if willAdd == 1:\n",
    "            addWord(word)\n",
    "    while isValue == 2:\n",
    "        if retVal in candidates: candidates.remove(retVal)\n",
    "        retVal = max(candidates, key=NWORDS.get)\n",
    "        isValue = input(\"Did you mean? \" + retVal +\"\\n1.Yes\\n2.No\\n\")\n",
    "        if isValue == 1:\n",
    "            addWord(retVal)\n",
    "            return retVal"
   ]
  },
  {
   "cell_type": "markdown",
   "metadata": {},
   "source": [
    "Given more time I would improve this program by producing a prefix bank and add it to an edit function or make a new function entirely. What I mean by that is that I would list off endings such as -ed, -ing, -ly, and such and use that to make a list of likely candidates. I feel like that would ha"
   ]
  },
  {
   "cell_type": "code",
   "execution_count": 22,
   "metadata": {
    "collapsed": false
   },
   "outputs": [
    {
     "name": "stdout",
     "output_type": "stream",
     "text": [
      "Welcome to spell checker!\n",
      "Please type in a word and I'll check its spelling!\n",
      "invented\n",
      "Did you mean? invented\n",
      "1.Yes\n",
      "2.No\n",
      "1\n",
      "Are You finished?\n",
      "1.Yes\n",
      "2.no2\n",
      "Welcome to spell checker!\n",
      "Please type in a word and I'll check its spelling!\n",
      "invested\n",
      "Did you mean? invested\n",
      "1.Yes\n",
      "2.No\n",
      "1\n",
      "Are You finished?\n",
      "1.Yes\n",
      "2.no2\n",
      "Welcome to spell checker!\n",
      "Please type in a word and I'll check its spelling!\n",
      "inbented\n",
      "Did you mean? invented\n",
      "1.Yes\n",
      "2.No\n",
      "1\n",
      "Are You finished?\n",
      "1.Yes\n",
      "2.no1\n"
     ]
    }
   ],
   "source": [
    "\n",
    "def main():\n",
    "    done = 2\n",
    "    while done == 2:\n",
    "        print(\"Welcome to spell checker!\\nPlease type in a word and I'll check its spelling!\")\n",
    "        myWord = raw_input()\n",
    "        correct(myWord)\n",
    "        done = input(\"Are You finished?\\n1.Yes\\n2.no\\n\")\n",
    "        \n",
    "if __name__ == \"__main__\":\n",
    "    main()"
   ]
  }
 ],
 "metadata": {
  "kernelspec": {
   "display_name": "Python 2",
   "language": "python",
   "name": "python2"
  },
  "language_info": {
   "codemirror_mode": {
    "name": "ipython",
    "version": 2
   },
   "file_extension": ".py",
   "mimetype": "text/x-python",
   "name": "python",
   "nbconvert_exporter": "python",
   "pygments_lexer": "ipython2",
   "version": "2.7.10"
  }
 },
 "nbformat": 4,
 "nbformat_minor": 0
}
